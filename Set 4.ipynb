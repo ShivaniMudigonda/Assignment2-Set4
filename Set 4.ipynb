{
 "cells": [
  {
   "cell_type": "markdown",
   "id": "6baee623",
   "metadata": {},
   "source": [
    "# Q3"
   ]
  },
  {
   "cell_type": "code",
   "execution_count": 4,
   "id": "73e3a30b",
   "metadata": {
    "ExecuteTime": {
     "end_time": "2022-12-30T11:03:21.414947Z",
     "start_time": "2022-12-30T11:03:21.394523Z"
    }
   },
   "outputs": [],
   "source": [
    "import numpy as np\n",
    "from scipy import stats\n",
    "from scipy.stats import norm "
   ]
  },
  {
   "cell_type": "code",
   "execution_count": 5,
   "id": "648dcfab",
   "metadata": {
    "ExecuteTime": {
     "end_time": "2022-12-30T11:04:15.005118Z",
     "start_time": "2022-12-30T11:04:14.980797Z"
    }
   },
   "outputs": [],
   "source": [
    "#n=100, Pop Mean=50, Pop SD=40 As no. of samples is more than 30, we can consider it normal distribution"
   ]
  },
  {
   "cell_type": "code",
   "execution_count": 6,
   "id": "5354607f",
   "metadata": {
    "ExecuteTime": {
     "end_time": "2022-12-30T11:05:25.680807Z",
     "start_time": "2022-12-30T11:05:25.649765Z"
    }
   },
   "outputs": [
    {
     "data": {
      "text/plain": [
       "-1.25"
      ]
     },
     "execution_count": 6,
     "metadata": {},
     "output_type": "execute_result"
    }
   ],
   "source": [
    "# find z-scores at x=45; z=(s_mean-P_mean)/(p_SD/sqrt(n))\n",
    "z=(45-50)/(40/100**0.5)\n",
    "z"
   ]
  },
  {
   "cell_type": "code",
   "execution_count": 8,
   "id": "dd6e6b4c",
   "metadata": {
    "ExecuteTime": {
     "end_time": "2022-12-30T11:06:15.886362Z",
     "start_time": "2022-12-30T11:06:15.857367Z"
    }
   },
   "outputs": [
    {
     "data": {
      "text/plain": [
       "0.7887004526662893"
      ]
     },
     "execution_count": 8,
     "metadata": {},
     "output_type": "execute_result"
    }
   ],
   "source": [
    "# For No investigation P(45)\n",
    "stats.norm.cdf(1.25)-stats.norm.cdf(-1.25)"
   ]
  },
  {
   "cell_type": "code",
   "execution_count": 9,
   "id": "a4efb0c1",
   "metadata": {
    "ExecuteTime": {
     "end_time": "2022-12-30T11:06:47.296994Z",
     "start_time": "2022-12-30T11:06:47.207380Z"
    }
   },
   "outputs": [
    {
     "data": {
      "text/plain": [
       "(45.00000495667348, 54.99999504332652)"
      ]
     },
     "execution_count": 9,
     "metadata": {},
     "output_type": "execute_result"
    }
   ],
   "source": [
    "stats.norm.interval(0.7887,loc=50,scale=40/(100**0.5))"
   ]
  },
  {
   "cell_type": "code",
   "execution_count": 10,
   "id": "5468f13e",
   "metadata": {
    "ExecuteTime": {
     "end_time": "2022-12-30T11:07:23.600629Z",
     "start_time": "2022-12-30T11:07:23.582635Z"
    }
   },
   "outputs": [
    {
     "data": {
      "text/plain": [
       "0.21130000000000004"
      ]
     },
     "execution_count": 10,
     "metadata": {},
     "output_type": "execute_result"
    }
   ],
   "source": [
    "# For Investigation 1-P(45)\n",
    "1-0.7887"
   ]
  },
  {
   "cell_type": "markdown",
   "id": "61c13990",
   "metadata": {},
   "source": [
    "# probability will be 21.1%"
   ]
  },
  {
   "cell_type": "code",
   "execution_count": null,
   "id": "d11eb8e6",
   "metadata": {},
   "outputs": [],
   "source": []
  }
 ],
 "metadata": {
  "kernelspec": {
   "display_name": "Python 3 (ipykernel)",
   "language": "python",
   "name": "python3"
  },
  "language_info": {
   "codemirror_mode": {
    "name": "ipython",
    "version": 3
   },
   "file_extension": ".py",
   "mimetype": "text/x-python",
   "name": "python",
   "nbconvert_exporter": "python",
   "pygments_lexer": "ipython3",
   "version": "3.9.13"
  }
 },
 "nbformat": 4,
 "nbformat_minor": 5
}
